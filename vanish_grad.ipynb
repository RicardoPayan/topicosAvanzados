{
  "cells": [
    {
      "cell_type": "markdown",
      "metadata": {
        "id": "GDrE2_P2SrtI"
      },
      "source": [
        "\n",
        "## Background\n",
        "Vanilla RNNs are prone to vanishing and exploding gradients when dealing with long sequences. Recall that the gradient with respect to $W_h$ is proportional to a sum of products:\n",
        "\n",
        "$$\\frac{\\delta L}{\\delta W_h} \\propto \\sum_{1\\le k\\le t} \\left(\\prod_{t\\ge i>k} \\frac{\\delta h_i}{\\delta h_{i-1}}\\right)\\frac{\\delta h_k}{\\delta W_h}$$\n",
        "\n",
        "where, for step $k$ far away from the place where the loss is computed ($t$), the product\n",
        "\n",
        "$$\\prod_{t\\ge i>k} \\frac{\\delta h_i}{\\delta h_{i-1}}$$\n",
        "\n",
        "can either go to 0 or infinity depending on the values of the partial derivative of the hidden state $\\frac{\\delta h_i}{\\delta h_{i-1}}$. In this ungraded lab, you will take a closer look at the partial derivative of the hidden state, and I'll show you how gradient problems arise when dealing with long sequences in vanilla RNNs.\n",
        "\n",
        "## Imports"
      ]
    },
    {
      "cell_type": "code",
      "execution_count": 1,
      "metadata": {
        "tags": [],
        "id": "HmmIxYB1SrtJ"
      },
      "outputs": [],
      "source": [
        "import numpy as np\n",
        "import matplotlib.pyplot as plt\n",
        "import ipywidgets as widgets\n",
        "from ipywidgets import interact, interactive, fixed, interact_manual\n",
        "\n",
        "%matplotlib inline"
      ]
    },
    {
      "cell_type": "markdown",
      "metadata": {
        "id": "-QgyOyWoSrtK"
      },
      "source": [
        "## Activations & Partial Derivative\n",
        "\n",
        "### Partial Derivative\n",
        "Recall that the hidden state at step $i$ is defined as:\n",
        "\n",
        "$$h_i= \\sigma(W_{hh} h_{i-1} + W_{hx} x_i + b_h)$$\n",
        "\n",
        "where $\\sigma$ is an activation function (usually sigmoid). So, you can use the chain rule to get the partial derivative:\n",
        "\n",
        "$$\\frac{\\delta h_i}{\\delta h_{i-1}} = W_{hh}^T \\text{diag} (\\sigma'(W_{hh} h_{i-1} + W_{hx} x_i + b_h))$$\n",
        "\n",
        "$W_h^T$ is the transpose of the weight matrix, and $\\sigma'$ is the gradient of the activation function. The gradient of the activation function is a vector of size equal to the hidden state size, and the $\\text{diag}$ converts that vector into a diagonal matrix. You <strong>don't have to worry about the calculus</strong> behind this derivative, and you only need to be familiar with the form it takes.  \n",
        "\n",
        "### Vanishing and Exploding Gradient Conditions\n",
        "\n",
        "When the product\n",
        "\n",
        "$$\\prod_{t\\ge i > k} \\frac{\\partial h_i}{\\partial h_{i-1}} = \\prod_{t\\ge i > k} W_{hh}^T \\text{diag} (\\sigma'(W_{hh} h_{i-1} + W_{hx} x_i + b_h))$$\n",
        "\n",
        "approaches 0, you face vanishing gradient problems where the contribution of item $k$ in the sequence is neglected. Conversely, when the product approaches infinity you will face exploding gradients and convergence problems arise. For that product approaching either of those values, two conditions need to be met:\n",
        "\n",
        "<ol>\n",
        "<li> Derivative of the activation function is bounded by some value $\\alpha$ </li>\n",
        "<li> The absolute value of the largest eigenvalue of the weight matrix $W_{hh}$ is lower than $\\frac{1}{\\alpha}$ (sufficient condition for vanishing gradient), or greater than $\\frac{1}{\\alpha}$ (necessary condition for exploding gradient).</li>\n",
        "</ol>\n",
        "\n",
        "### Activation\n",
        "\n",
        "So let's check the first condition for the sigmoid function. Run the cell below to get an interactive plot of the sigmoid function and its derivative at different points. Feel free to change the argument values to check if the derivative is bounded or not."
      ]
    },
    {
      "cell_type": "code",
      "execution_count": 2,
      "metadata": {
        "id": "eZOTD0HJSrtL",
        "colab": {
          "base_uri": "https://localhost:8080/",
          "height": 591,
          "referenced_widgets": [
            "1e5ca04c03b64c94a95fee90f34a2e99",
            "919858848ec944638adc5c373d63555f",
            "aa84d34b3f89489c9caf923fa82fbabf",
            "0d757fbad1ad46a193b8f485f6d4b8e5",
            "1358eec6746a4fbc880412abedd03554",
            "21d5e35f63d44485a31cbef6a130a08a",
            "804e3c9cc0c045ebb1df637618c6efc8"
          ]
        },
        "outputId": "01c19438-7f17-4f27-867c-791ab7c4127f"
      },
      "outputs": [
        {
          "output_type": "display_data",
          "data": {
            "text/plain": [
              "interactive(children=(FloatSlider(value=0.0, description='x_tan', max=6.0, min=-6.0, step=0.5), Output()), _do…"
            ],
            "application/vnd.jupyter.widget-view+json": {
              "version_major": 2,
              "version_minor": 0,
              "model_id": "1e5ca04c03b64c94a95fee90f34a2e99"
            }
          },
          "metadata": {}
        },
        {
          "output_type": "execute_result",
          "data": {
            "text/plain": [
              "<function __main__.plot_func(x_tan=0)>"
            ],
            "text/html": [
              "<div style=\"max-width:800px; border: 1px solid var(--colab-border-color);\"><style>\n",
              "      pre.function-repr-contents {\n",
              "        overflow-x: auto;\n",
              "        padding: 8px 12px;\n",
              "        max-height: 500px;\n",
              "      }\n",
              "\n",
              "      pre.function-repr-contents.function-repr-contents-collapsed {\n",
              "        cursor: pointer;\n",
              "        max-height: 100px;\n",
              "      }\n",
              "    </style>\n",
              "    <pre style=\"white-space: initial; background:\n",
              "         var(--colab-secondary-surface-color); padding: 8px 12px;\n",
              "         border-bottom: 1px solid var(--colab-border-color);\"><b>plot_func</b><br/>def plot_func(x_tan=0)</pre><pre class=\"function-repr-contents function-repr-contents-collapsed\" style=\"\"><a class=\"filepath\" style=\"display:none\" href=\"#\">/content/&lt;ipython-input-2-fc1d4770cd1d&gt;</a>&lt;no docstring&gt;</pre></div>"
            ]
          },
          "metadata": {},
          "execution_count": 2
        }
      ],
      "source": [
        "# Data\n",
        "\n",
        "### START CODE HERE ###\n",
        "x = np.linspace(-100, 100, 1000)  # try changing the range of values in the data. eg: (-100,100,1000)\n",
        "### END CODE HERE ###\n",
        "# Activation\n",
        "# Interval [0, 1]\n",
        "def sigmoid(x):\n",
        "    return 1 / (1 + np.exp(-x))\n",
        "\n",
        "activations = sigmoid(x)\n",
        "\n",
        "# Gradient\n",
        "# Interval [0, 0.25]\n",
        "def sigmoid_gradient(x):\n",
        "    return sigmoid(x) * (1 - sigmoid(x))\n",
        "\n",
        "# Add the tangent line\n",
        "def plot_func(x_tan = 0):\n",
        "    plt.plot(x, activations)\n",
        "    plt.title(\"Sigmoid Function and Gradient\")\n",
        "    plt.xlabel(\"$x$\")\n",
        "    plt.ylabel(\"sigmoid($x$)\")\n",
        "    plt.text(x_tan, sigmoid(x_tan), f\"Gradient: {sigmoid_gradient(x_tan):.4f}\")\n",
        "    plt.xlim((-6,6))\n",
        "    plt.ylim((-0.5,1.5))\n",
        "    plt.rcParams['figure.figsize'] = [7, 5]\n",
        "    y_tan = sigmoid(x_tan)  # y value\n",
        "    span = 4 # line span along x axis\n",
        "    data_tan = np.linspace(x_tan - span, x_tan + span)  # x values to plot\n",
        "    gradient_tan = sigmoid_gradient(x_tan)     # gradient of the tangent\n",
        "    tan = y_tan + gradient_tan * (data_tan - x_tan)     # y values to plot\n",
        "    plt.plot(x_tan, y_tan, marker=\"o\", color=\"orange\", label=True)  # marker\n",
        "    plt.plot(data_tan, tan, linestyle=\"--\", color=\"orange\")         # line\n",
        "    plt.show()\n",
        "\n",
        "interact(plot_func, x_tan = widgets.FloatSlider(value=0,\n",
        "                                            min=-6,\n",
        "                                            max=6,\n",
        "                                            step=0.5))"
      ]
    },
    {
      "cell_type": "markdown",
      "metadata": {
        "id": "CRdNq2rpSrtM"
      },
      "source": [
        "As you checked, the derivative of the sigmoid function is bounded by $\\alpha=\\frac{1}{4}$. So vanishing gradient problems will arise for long-term components if the largest eigenvalue of $W_{hh}$ is lower than 4, and exploding gradient problems will happen if the largest eigenvalue is larger than 4."
      ]
    },
    {
      "cell_type": "markdown",
      "metadata": {
        "id": "QHXcvrlwSrtM"
      },
      "source": [
        "## Vanishing Gradient with Sigmoid Activation"
      ]
    },
    {
      "cell_type": "markdown",
      "metadata": {
        "id": "fiVqmDGZSrtN"
      },
      "source": [
        "Let's generate a random checkpoint for an RNN model and assume that the sequences are of length $t=20$:"
      ]
    },
    {
      "cell_type": "code",
      "execution_count": 3,
      "metadata": {
        "id": "pFUoQVw6SrtN"
      },
      "outputs": [],
      "source": [
        "np.random.seed(12345)\n",
        "t = 20\n",
        "h = np.random.randn(5,t)\n",
        "x = np.random.randn(5,t)"
      ]
    },
    {
      "cell_type": "code",
      "execution_count": 4,
      "metadata": {
        "id": "0h-vVC2hSrtO"
      },
      "outputs": [],
      "source": [
        "b_h = np.random.randn(5,1)\n",
        "W_hx = np.random.randn(5,5)"
      ]
    },
    {
      "cell_type": "markdown",
      "metadata": {
        "id": "7xeyVEI_SrtO"
      },
      "source": [
        "In the next cell, you will create a random matrix $W_{hh}$ with eigenvalues lower than four."
      ]
    },
    {
      "cell_type": "code",
      "execution_count": 5,
      "metadata": {
        "id": "sxJXrWwASrtP"
      },
      "outputs": [],
      "source": [
        "eig = np.random.rand(5) * 4 #Random eigenvalues lower than 4\n",
        "Q = np.random.randn(5,5) #Random eigenvectors stacked in matrix Q\n",
        "W_hh = Q @ np.diag(eig) @ np.linalg.inv(Q) #W_hh"
      ]
    },
    {
      "cell_type": "markdown",
      "metadata": {
        "id": "bmEPz2OySrtP"
      },
      "source": [
        "Finally, let us define the product function for a determined step $k$."
      ]
    },
    {
      "cell_type": "code",
      "execution_count": 6,
      "metadata": {
        "id": "-0JOhZXiSrtP"
      },
      "outputs": [],
      "source": [
        "def prod(k):\n",
        "    p = 1\n",
        "    for i in range(t-1, k-2, -1):\n",
        "        p *= W_hh.T @ np.diag(sigmoid_gradient(W_hh@h[:,i] + W_hx@x[:,i] + b_h))\n",
        "    return p"
      ]
    },
    {
      "cell_type": "markdown",
      "metadata": {
        "id": "qmEV2R-uSrtP"
      },
      "source": [
        "Now, you can plot the contribution to the gradient for different steps $k$."
      ]
    },
    {
      "cell_type": "code",
      "execution_count": 7,
      "metadata": {
        "id": "IU9wQYB8SrtQ",
        "colab": {
          "base_uri": "https://localhost:8080/",
          "height": 489
        },
        "outputId": "fb6f5c67-ddeb-4ea8-d4ca-76db3f9ebcf8"
      },
      "outputs": [
        {
          "output_type": "display_data",
          "data": {
            "text/plain": [
              "<Figure size 700x500 with 1 Axes>"
            ],
            "image/png": "[encoded data removed]"
          },
          "metadata": {}
        }
      ],
      "source": [
        "product = np.zeros(20)\n",
        "for k in range(t):\n",
        "    product[k] = np.max(prod(k+1))\n",
        "\n",
        "plt.plot(np.array(range(t))+1, product)\n",
        "plt.title(\"Maximum contribution to the gradient at step $k$\");\n",
        "plt.xlabel(\"k\");\n",
        "plt.ylabel(\"Maximum contribution\");\n",
        "plt.xticks(np.array(range(t))+1);"
      ]
    },
    {
      "cell_type": "markdown",
      "metadata": {
        "id": "DT6ZitD-SrtQ"
      },
      "source": [
        "With the largest eigenvalue of the weight matrix $W_{hh}$ being lower than 4 --with a sigmoid activation function, the contribution of the early items in the sequence to the gradient go to zero. In practice, this will make your RNN rely only upon the most recent items in the series."
      ]
    },
    {
      "cell_type": "markdown",
      "metadata": {
        "id": "xWH7knhcSrtQ"
      },
      "source": [
        "## Exploding Gradient with Sigmoid Activation"
      ]
    },
    {
      "cell_type": "markdown",
      "metadata": {
        "id": "GIrMQgvESrtQ"
      },
      "source": [
        "An essential difference with the vanishing gradient problem is that the condition for exploding gradients is necessary but not sufficient. Therefore, it is very likely that you will face vanishing gradients rather than exploding gradient problems. However, let's fabricate an example for exploding gradients."
      ]
    },
    {
      "cell_type": "code",
      "execution_count": 8,
      "metadata": {
        "id": "o-aYR8LOSrtQ"
      },
      "outputs": [],
      "source": [
        "np.random.seed(12345)\n",
        "t = 20\n",
        "h = np.zeros((5,t))\n",
        "x = np.zeros((5,t))"
      ]
    },
    {
      "cell_type": "code",
      "execution_count": 9,
      "metadata": {
        "id": "hSXjrlXqSrtR"
      },
      "outputs": [],
      "source": [
        "b_h = np.zeros((5,1))\n",
        "W_hx = np.random.randn(5,5)"
      ]
    },
    {
      "cell_type": "markdown",
      "metadata": {
        "id": "zxHoq1n-SrtR"
      },
      "source": [
        "In the next cell, a random matrix $W_{hh}$ with eigenvalues greater than 4 is created"
      ]
    },
    {
      "cell_type": "code",
      "execution_count": 10,
      "metadata": {
        "id": "C48ofki7SrtS"
      },
      "outputs": [],
      "source": [
        "eig = 4 + np.random.rand(5)*10 #Random eigenvalues greater than 4\n",
        "Q = np.random.randn(5,5) #Random eigenvectors stacked in matrix Q\n",
        "W_hh = Q@np.diag(eig)@np.linalg.inv(Q) #W_hh"
      ]
    },
    {
      "cell_type": "markdown",
      "metadata": {
        "id": "0IkOMcCxSrtS"
      },
      "source": [
        "Now, you can plot the contribution to the gradient for different steps $k$."
      ]
    },
    {
      "cell_type": "code",
      "execution_count": 11,
      "metadata": {
        "id": "fvfDhvmuSrtS",
        "colab": {
          "base_uri": "https://localhost:8080/",
          "height": 489
        },
        "outputId": "1760c49c-aecf-49f6-c983-7a3109df0a45"
      },
      "outputs": [
        {
          "output_type": "display_data",
          "data": {
            "text/plain": [
              "<Figure size 700x500 with 1 Axes>"
            ],
            "image/png": "[encoded data removed]"
          },
          "metadata": {}
        }
      ],
      "source": [
        "product = np.zeros(20)\n",
        "for k in range(t):\n",
        "    product[k] = np.max(prod(k+1))\n",
        "\n",
        "plt.plot(np.array(range(t))+1, product)\n",
        "plt.title(\"Maximum contribution to the gradient at step $k$\");\n",
        "plt.xlabel(\"k\");\n",
        "plt.ylabel(\"Maximum contribution\");\n",
        "plt.xticks(np.array(range(t))+1);"
      ]
    },
    {
      "cell_type": "markdown",
      "metadata": {
        "id": "sbI98WmrSrtT"
      },
      "source": [
        "With the largest eigenvalue of the weight matrix $W_{hh}$ being greater than 4 --with a sigmoid activation function, the contribution of the early items in the sequence to the gradient goes to infinity. In practice, this will make you face convergence problems during training."
      ]
    },
    {
      "cell_type": "markdown",
      "metadata": {
        "id": "IuopoQK2SrtT"
      },
      "source": [
        "Now you are more familiar with the conditions for vanishing and exploding gradient problems. You should take away that for vanishing gradient it is <strong>sufficient</strong> to satisfy an eigenvalue condition, while for the exploding gradient problem it is <strong>neccesary</strong> but not enough. I used the weight matrix $W_{hh}$ in this discussion, but everything exposed here also applies for $W_{hx}$."
      ]
    },
    {
      "cell_type": "markdown",
      "metadata": {
        "id": "rPd9aLnUSrtT"
      },
      "source": [
        "## Solution\n",
        "One solution is to use RNN architectures specially designed to avoid these problems (like GRUs and LSTMs). Other solutions involve skip-connections or gradient clipping. But those are both discussions for another time."
      ]
    }
  ],
  "metadata": {
    "kernelspec": {
      "display_name": "Python 3",
      "language": "python",
      "name": "python3"
    },
    "language_info": {
      "codemirror_mode": {
        "name": "ipython",
        "version": 3
      },
      "file_extension": ".py",
      "mimetype": "text/x-python",
      "name": "python",
      "nbconvert_exporter": "python",
      "pygments_lexer": "ipython3",
      "version": "3.8.13"
    },
    "colab": {
      "provenance": []
    },
    "widgets": {
      "application/vnd.jupyter.widget-state+json": {
        "1e5ca04c03b64c94a95fee90f34a2e99": {
          "model_module": "@jupyter-widgets/controls",
          "model_name": "VBoxModel",
          "model_module_version": "1.5.0",
          "state": {
            "_dom_classes": [
              "widget-interact"
            ],
            "_model_module": "@jupyter-widgets/controls",
            "_model_module_version": "1.5.0",
            "_model_name": "VBoxModel",
            "_view_count": null,
            "_view_module": "@jupyter-widgets/controls",
            "_view_module_version": "1.5.0",
            "_view_name": "VBoxView",
            "box_style": "",
            "children": [
              "IPY_MODEL_919858848ec944638adc5c373d63555f",
              "IPY_MODEL_aa84d34b3f89489c9caf923fa82fbabf"
            ],
            "layout": "IPY_MODEL_0d757fbad1ad46a193b8f485f6d4b8e5"
          }
        },
        "919858848ec944638adc5c373d63555f": {
          "model_module": "@jupyter-widgets/controls",
          "model_name": "FloatSliderModel",
          "model_module_version": "1.5.0",
          "state": {
            "_dom_classes": [],
            "_model_module": "@jupyter-widgets/controls",
            "_model_module_version": "1.5.0",
            "_model_name": "FloatSliderModel",
            "_view_count": null,
            "_view_module": "@jupyter-widgets/controls",
            "_view_module_version": "1.5.0",
            "_view_name": "FloatSliderView",
            "continuous_update": true,
            "description": "x_tan",
            "description_tooltip": null,
            "disabled": false,
            "layout": "IPY_MODEL_1358eec6746a4fbc880412abedd03554",
            "max": 6,
            "min": -6,
            "orientation": "horizontal",
            "readout": true,
            "readout_format": ".2f",
            "step": 0.5,
            "style": "IPY_MODEL_21d5e35f63d44485a31cbef6a130a08a",
            "value": 0
          }
        },
        "aa84d34b3f89489c9caf923fa82fbabf": {
          "model_module": "@jupyter-widgets/output",
          "model_name": "OutputModel",
          "model_module_version": "1.0.0",
          "state": {
            "_dom_classes": [],
            "_model_module": "@jupyter-widgets/output",
            "_model_module_version": "1.0.0",
            "_model_name": "OutputModel",
            "_view_count": null,
            "_view_module": "@jupyter-widgets/output",
            "_view_module_version": "1.0.0",
            "_view_name": "OutputView",
            "layout": "IPY_MODEL_804e3c9cc0c045ebb1df637618c6efc8",
            "msg_id": "",
            "outputs": [
              {
                "output_type": "display_data",
                "data": {
                  "text/plain": "<Figure size 640x480 with 1 Axes>",
                  "image/png": "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\n"
                },
                "metadata": {}
              }
            ]
          }
        },
        "0d757fbad1ad46a193b8f485f6d4b8e5": {
          "model_module": "@jupyter-widgets/base",
          "model_name": "LayoutModel",
          "model_module_version": "1.2.0",
          "state": {
            "_model_module": "@jupyter-widgets/base",
            "_model_module_version": "1.2.0",
            "_model_name": "LayoutModel",
            "_view_count": null,
            "_view_module": "@jupyter-widgets/base",
            "_view_module_version": "1.2.0",
            "_view_name": "LayoutView",
            "align_content": null,
            "align_items": null,
            "align_self": null,
            "border": null,
            "bottom": null,
            "display": null,
            "flex": null,
            "flex_flow": null,
            "grid_area": null,
            "grid_auto_columns": null,
            "grid_auto_flow": null,
            "grid_auto_rows": null,
            "grid_column": null,
            "grid_gap": null,
            "grid_row": null,
            "grid_template_areas": null,
            "grid_template_columns": null,
            "grid_template_rows": null,
            "height": null,
            "justify_content": null,
            "justify_items": null,
            "left": null,
            "margin": null,
            "max_height": null,
            "max_width": null,
            "min_height": null,
            "min_width": null,
            "object_fit": null,
            "object_position": null,
            "order": null,
            "overflow": null,
            "overflow_x": null,
            "overflow_y": null,
            "padding": null,
            "right": null,
            "top": null,
            "visibility": null,
            "width": null
          }
        },
        "1358eec6746a4fbc880412abedd03554": {
          "model_module": "@jupyter-widgets/base",
          "model_name": "LayoutModel",
          "model_module_version": "1.2.0",
          "state": {
            "_model_module": "@jupyter-widgets/base",
            "_model_module_version": "1.2.0",
            "_model_name": "LayoutModel",
            "_view_count": null,
            "_view_module": "@jupyter-widgets/base",
            "_view_module_version": "1.2.0",
            "_view_name": "LayoutView",
            "align_content": null,
            "align_items": null,
            "align_self": null,
            "border": null,
            "bottom": null,
            "display": null,
            "flex": null,
            "flex_flow": null,
            "grid_area": null,
            "grid_auto_columns": null,
            "grid_auto_flow": null,
            "grid_auto_rows": null,
            "grid_column": null,
            "grid_gap": null,
            "grid_row": null,
            "grid_template_areas": null,
            "grid_template_columns": null,
            "grid_template_rows": null,
            "height": null,
            "justify_content": null,
            "justify_items": null,
            "left": null,
            "margin": null,
            "max_height": null,
            "max_width": null,
            "min_height": null,
            "min_width": null,
            "object_fit": null,
            "object_position": null,
            "order": null,
            "overflow": null,
            "overflow_x": null,
            "overflow_y": null,
            "padding": null,
            "right": null,
            "top": null,
            "visibility": null,
            "width": null
          }
        },
        "21d5e35f63d44485a31cbef6a130a08a": {
          "model_module": "@jupyter-widgets/controls",
          "model_name": "SliderStyleModel",
          "model_module_version": "1.5.0",
          "state": {
            "_model_module": "@jupyter-widgets/controls",
            "_model_module_version": "1.5.0",
            "_model_name": "SliderStyleModel",
            "_view_count": null,
            "_view_module": "@jupyter-widgets/base",
            "_view_module_version": "1.2.0",
            "_view_name": "StyleView",
            "description_width": "",
            "handle_color": null
          }
        },
        "804e3c9cc0c045ebb1df637618c6efc8": {
          "model_module": "@jupyter-widgets/base",
          "model_name": "LayoutModel",
          "model_module_version": "1.2.0",
          "state": {
            "_model_module": "@jupyter-widgets/base",
            "_model_module_version": "1.2.0",
            "_model_name": "LayoutModel",
            "_view_count": null,
            "_view_module": "@jupyter-widgets/base",
            "_view_module_version": "1.2.0",
            "_view_name": "LayoutView",
            "align_content": null,
            "align_items": null,
            "align_self": null,
            "border": null,
            "bottom": null,
            "display": null,
            "flex": null,
            "flex_flow": null,
            "grid_area": null,
            "grid_auto_columns": null,
            "grid_auto_flow": null,
            "grid_auto_rows": null,
            "grid_column": null,
            "grid_gap": null,
            "grid_row": null,
            "grid_template_areas": null,
            "grid_template_columns": null,
            "grid_template_rows": null,
            "height": null,
            "justify_content": null,
            "justify_items": null,
            "left": null,
            "margin": null,
            "max_height": null,
            "max_width": null,
            "min_height": null,
            "min_width": null,
            "object_fit": null,
            "object_position": null,
            "order": null,
            "overflow": null,
            "overflow_x": null,
            "overflow_y": null,
            "padding": null,
            "right": null,
            "top": null,
            "visibility": null,
            "width": null
          }
        }
      }
    }
  },
  "nbformat": 4,
  "nbformat_minor": 0
}